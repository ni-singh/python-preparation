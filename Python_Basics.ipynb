{
  "nbformat": 4,
  "nbformat_minor": 0,
  "metadata": {
    "colab": {
      "provenance": [],
      "authorship_tag": "ABX9TyP+O+XHOt4GP/Dw0Sc6oNUq",
      "include_colab_link": true
    },
    "kernelspec": {
      "name": "python3",
      "display_name": "Python 3"
    },
    "language_info": {
      "name": "python"
    }
  },
  "cells": [
    {
      "cell_type": "markdown",
      "metadata": {
        "id": "view-in-github",
        "colab_type": "text"
      },
      "source": [
        "<a href=\"https://colab.research.google.com/github/ni-singh/python-preparation/blob/main/Python_Basics.ipynb\" target=\"_parent\"><img src=\"https://colab.research.google.com/assets/colab-badge.svg\" alt=\"Open In Colab\"/></a>"
      ]
    },
    {
      "cell_type": "markdown",
      "source": [],
      "metadata": {
        "id": "DY2_CDtzntFx"
      }
    },
    {
      "cell_type": "markdown",
      "source": [],
      "metadata": {
        "id": "q_AKQEOyn78Q"
      }
    },
    {
      "cell_type": "markdown",
      "source": [
        "### Converting an Integer into Decimals"
      ],
      "metadata": {
        "id": "t5ubeDEWnwH5"
      }
    },
    {
      "cell_type": "code",
      "execution_count": 1,
      "metadata": {
        "colab": {
          "base_uri": "https://localhost:8080/"
        },
        "id": "eRAMSCexnklB",
        "outputId": "bb083a14-8ece-47b3-dda6-76a4bf1688f6"
      },
      "outputs": [
        {
          "output_type": "stream",
          "name": "stdout",
          "text": [
            "10\n",
            "<class 'decimal.Decimal'>\n"
          ]
        }
      ],
      "source": [
        "import decimal\n",
        "\n",
        "integer =10\n",
        "print(decimal.Decimal(integer))\n",
        "print(type(decimal.Decimal(integer)))"
      ]
    },
    {
      "cell_type": "markdown",
      "source": [
        "### Converting an String of Integers into Decimals"
      ],
      "metadata": {
        "id": "3kOckLZRoo3G"
      }
    },
    {
      "cell_type": "code",
      "source": [
        "import decimal\n",
        "string = '12345'\n",
        "print(decimal.Decimal(string))\n",
        "print(type(decimal.Decimal(string)))"
      ],
      "metadata": {
        "colab": {
          "base_uri": "https://localhost:8080/"
        },
        "id": "cAvw6OYoob-u",
        "outputId": "7225840e-f5e2-4f07-a312-3c73a13abb92"
      },
      "execution_count": 3,
      "outputs": [
        {
          "output_type": "stream",
          "name": "stdout",
          "text": [
            "12345\n",
            "<class 'decimal.Decimal'>\n"
          ]
        }
      ]
    },
    {
      "cell_type": "markdown",
      "source": [
        "### Reversing a String using an Extended Slicing Technique"
      ],
      "metadata": {
        "id": "wXcUuAMRptgW"
      }
    },
    {
      "cell_type": "code",
      "source": [
        "string = \"Python Programming\"\n",
        "print(string[::-1])"
      ],
      "metadata": {
        "colab": {
          "base_uri": "https://localhost:8080/"
        },
        "id": "mwAwPW3Mp3WQ",
        "outputId": "b4cc6ed5-14c8-4433-b27a-a7a8ede0ebaf"
      },
      "execution_count": 4,
      "outputs": [
        {
          "output_type": "stream",
          "name": "stdout",
          "text": [
            "gnimmargorP nohtyP\n"
          ]
        }
      ]
    },
    {
      "cell_type": "markdown",
      "source": [
        "### Counting vowels in a Given Word\n"
      ],
      "metadata": {
        "id": "Qb20boAdqv_k"
      }
    },
    {
      "cell_type": "code",
      "source": [
        "vowel = ['a','e','i','o','u']\n",
        "word = 'programming'\n",
        "count = 0\n",
        "for i in word:\n",
        "    if i in vowel:\n",
        "        count +=1\n",
        "print(count)"
      ],
      "metadata": {
        "colab": {
          "base_uri": "https://localhost:8080/"
        },
        "id": "6QlX3IbnqC4l",
        "outputId": "a1b0f3d3-d0d6-43f4-a214-6e51aaa7a773"
      },
      "execution_count": 5,
      "outputs": [
        {
          "output_type": "stream",
          "name": "stdout",
          "text": [
            "3\n"
          ]
        }
      ]
    }
  ]
}