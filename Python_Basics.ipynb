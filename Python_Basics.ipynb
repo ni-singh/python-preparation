{
  "nbformat": 4,
  "nbformat_minor": 0,
  "metadata": {
    "colab": {
      "provenance": [],
      "authorship_tag": "ABX9TyPcYFf8TWI67QTLA0S0qvKj",
      "include_colab_link": true
    },
    "kernelspec": {
      "name": "python3",
      "display_name": "Python 3"
    },
    "language_info": {
      "name": "python"
    }
  },
  "cells": [
    {
      "cell_type": "markdown",
      "metadata": {
        "id": "view-in-github",
        "colab_type": "text"
      },
      "source": [
        "<a href=\"https://colab.research.google.com/github/ni-singh/python-preparation/blob/main/Python_Basics.ipynb\" target=\"_parent\"><img src=\"https://colab.research.google.com/assets/colab-badge.svg\" alt=\"Open In Colab\"/></a>"
      ]
    },
    {
      "cell_type": "markdown",
      "source": [],
      "metadata": {
        "id": "DY2_CDtzntFx"
      }
    },
    {
      "cell_type": "markdown",
      "source": [],
      "metadata": {
        "id": "q_AKQEOyn78Q"
      }
    },
    {
      "cell_type": "markdown",
      "source": [
        "### 1. Converting an Integer into Decimals"
      ],
      "metadata": {
        "id": "t5ubeDEWnwH5"
      }
    },
    {
      "cell_type": "code",
      "execution_count": null,
      "metadata": {
        "colab": {
          "base_uri": "https://localhost:8080/"
        },
        "id": "eRAMSCexnklB",
        "outputId": "bb083a14-8ece-47b3-dda6-76a4bf1688f6"
      },
      "outputs": [
        {
          "output_type": "stream",
          "name": "stdout",
          "text": [
            "10\n",
            "<class 'decimal.Decimal'>\n"
          ]
        }
      ],
      "source": [
        "import decimal\n",
        "\n",
        "integer =10\n",
        "print(decimal.Decimal(integer))\n",
        "print(type(decimal.Decimal(integer)))"
      ]
    },
    {
      "cell_type": "markdown",
      "source": [
        "### 2. Converting an String of Integers into Decimals"
      ],
      "metadata": {
        "id": "3kOckLZRoo3G"
      }
    },
    {
      "cell_type": "code",
      "source": [
        "import decimal\n",
        "string = '12345'\n",
        "print(decimal.Decimal(string))\n",
        "print(type(decimal.Decimal(string)))"
      ],
      "metadata": {
        "colab": {
          "base_uri": "https://localhost:8080/"
        },
        "id": "cAvw6OYoob-u",
        "outputId": "7225840e-f5e2-4f07-a312-3c73a13abb92"
      },
      "execution_count": null,
      "outputs": [
        {
          "output_type": "stream",
          "name": "stdout",
          "text": [
            "12345\n",
            "<class 'decimal.Decimal'>\n"
          ]
        }
      ]
    },
    {
      "cell_type": "markdown",
      "source": [
        "### 3. Reversing a String using an Extended Slicing Technique"
      ],
      "metadata": {
        "id": "wXcUuAMRptgW"
      }
    },
    {
      "cell_type": "code",
      "source": [
        "string = \"Python Programming\"\n",
        "print(string[::-1])"
      ],
      "metadata": {
        "colab": {
          "base_uri": "https://localhost:8080/"
        },
        "id": "mwAwPW3Mp3WQ",
        "outputId": "1185d266-9e01-4ab3-987f-6ad7aed3774f"
      },
      "execution_count": 4,
      "outputs": [
        {
          "output_type": "stream",
          "name": "stdout",
          "text": [
            "gnimmargorP nohtyP\n"
          ]
        }
      ]
    },
    {
      "cell_type": "markdown",
      "source": [
        "### 4. Counting vowels in a Given Word\n"
      ],
      "metadata": {
        "id": "Qb20boAdqv_k"
      }
    },
    {
      "cell_type": "code",
      "source": [
        "vowel = ['a','e','i','o','u']\n",
        "word = 'programming'\n",
        "count = 0\n",
        "for i in word:\n",
        "    if i in vowel:\n",
        "        count +=1\n",
        "print(count)"
      ],
      "metadata": {
        "colab": {
          "base_uri": "https://localhost:8080/"
        },
        "id": "6QlX3IbnqC4l",
        "outputId": "a1b0f3d3-d0d6-43f4-a214-6e51aaa7a773"
      },
      "execution_count": null,
      "outputs": [
        {
          "output_type": "stream",
          "name": "stdout",
          "text": [
            "3\n"
          ]
        }
      ]
    },
    {
      "cell_type": "markdown",
      "source": [
        "### 5. Counting consonants in a given word"
      ],
      "metadata": {
        "id": "W2wuXEhl1bRW"
      }
    },
    {
      "cell_type": "code",
      "source": [
        "vowel = ['a','e','i','o','u']\n",
        "word = 'programming'\n",
        "count = 0\n",
        "for i in word:\n",
        "    if i not in vowel:\n",
        "        count +=1\n",
        "print(count)\n"
      ],
      "metadata": {
        "colab": {
          "base_uri": "https://localhost:8080/"
        },
        "id": "kVIEiuBC1nSC",
        "outputId": "dca30c8a-77be-4218-8a75-585c14182162"
      },
      "execution_count": 1,
      "outputs": [
        {
          "output_type": "stream",
          "name": "stdout",
          "text": [
            "8\n"
          ]
        }
      ]
    },
    {
      "cell_type": "markdown",
      "source": [
        "### 6. Counting the number of occurences of a character in a String"
      ],
      "metadata": {
        "id": "-k8neWNb1vlO"
      }
    },
    {
      "cell_type": "code",
      "source": [
        "word = 'programming'\n",
        "character = 'g'\n",
        "count = 0\n",
        "for i in word:\n",
        "    if i == character:\n",
        "        count +=1\n",
        "print(count)"
      ],
      "metadata": {
        "colab": {
          "base_uri": "https://localhost:8080/"
        },
        "id": "vU5BC9hy2Llp",
        "outputId": "47ccaa34-b111-467a-abc6-34fc85d124b7"
      },
      "execution_count": 3,
      "outputs": [
        {
          "output_type": "stream",
          "name": "stdout",
          "text": [
            "2\n"
          ]
        }
      ]
    },
    {
      "cell_type": "markdown",
      "source": [
        "### 7. Writing a Fibonacci Series"
      ],
      "metadata": {
        "id": "xAAwVGkG3JYi"
      }
    },
    {
      "cell_type": "code",
      "source": [
        "fib = [0,1]\n",
        "n=5\n",
        "for i in range(n):\n",
        "    fib.append(fib[i]+fib[i+1])\n",
        "print(fib)\n",
        "\n",
        "#Converting the list to integers to string\n",
        "print(', '.join(map(str,fib)))"
      ],
      "metadata": {
        "colab": {
          "base_uri": "https://localhost:8080/"
        },
        "id": "OpPyCTr13QJY",
        "outputId": "180e424e-fc44-4b7f-9819-b6360e960842"
      },
      "execution_count": 9,
      "outputs": [
        {
          "output_type": "stream",
          "name": "stdout",
          "text": [
            "[0, 1, 1, 2, 3, 5, 8]\n",
            "0, 1, 1, 2, 3, 5, 8\n"
          ]
        }
      ]
    },
    {
      "cell_type": "markdown",
      "source": [
        "### 8. Finding the Maximum Number in a list"
      ],
      "metadata": {
        "id": "c4waQFGo38_f"
      }
    },
    {
      "cell_type": "code",
      "source": [
        "numberList = [12, 3, 55, 23, 6, 78, 33, 4]\n",
        "max = numberList[0]\n",
        "for i in numberList:\n",
        "    if i > max:\n",
        "        max = i\n",
        "print(max)"
      ],
      "metadata": {
        "colab": {
          "base_uri": "https://localhost:8080/"
        },
        "id": "e2iu1CPR3WN4",
        "outputId": "cea28d35-f978-4b01-981f-b72754d7909c"
      },
      "execution_count": 10,
      "outputs": [
        {
          "output_type": "stream",
          "name": "stdout",
          "text": [
            "78\n"
          ]
        }
      ]
    },
    {
      "cell_type": "markdown",
      "source": [
        "### 9. Finding the Minimum Number in a list"
      ],
      "metadata": {
        "id": "rBnBuzKn4lK-"
      }
    },
    {
      "cell_type": "code",
      "source": [
        "numList = [12, 3, 55, 78, 6, 78, 33, 4]\n",
        "min = numList[0]\n",
        "for i in numList:\n",
        "    if i < min:\n",
        "        min = i\n",
        "print(min)"
      ],
      "metadata": {
        "colab": {
          "base_uri": "https://localhost:8080/"
        },
        "id": "LGlofzbN4bjV",
        "outputId": "737ca256-1102-4e91-ec2f-04d024fb42b8"
      },
      "execution_count": 1,
      "outputs": [
        {
          "output_type": "stream",
          "name": "stdout",
          "text": [
            "3\n"
          ]
        }
      ]
    },
    {
      "cell_type": "markdown",
      "source": [
        "### 10. Finding the middle element in List"
      ],
      "metadata": {
        "id": "6uN6SHJ0hLhn"
      }
    },
    {
      "cell_type": "code",
      "source": [
        "numList = [12, 3, 55, 23, 6, 78, 33, 5]\n",
        "midElement = int((len(numList)/2))\n",
        "print(numList[midElement])"
      ],
      "metadata": {
        "colab": {
          "base_uri": "https://localhost:8080/"
        },
        "id": "cxGZhZKwhG53",
        "outputId": "ce333c41-f532-402d-e9a1-bff8c1473cb0"
      },
      "execution_count": 3,
      "outputs": [
        {
          "output_type": "stream",
          "name": "stdout",
          "text": [
            "6\n"
          ]
        }
      ]
    },
    {
      "cell_type": "markdown",
      "source": [
        "### 11. Converting a list into a string"
      ],
      "metadata": {
        "id": "pdubRLPbhwiL"
      }
    },
    {
      "cell_type": "code",
      "source": [
        "list = ['p', 'y', 'T', 'H', 'O', 'N']\n",
        "string = \"\".join(list).upper()\n",
        "print(string)\n",
        "print(type(string))"
      ],
      "metadata": {
        "colab": {
          "base_uri": "https://localhost:8080/"
        },
        "id": "23yLS7dZiG9O",
        "outputId": "169e8cca-9ff7-4801-aeb9-a3a9319839de"
      },
      "execution_count": 14,
      "outputs": [
        {
          "output_type": "stream",
          "name": "stdout",
          "text": [
            "PYTHON\n",
            "<class 'str'>\n"
          ]
        }
      ]
    },
    {
      "cell_type": "code",
      "source": [],
      "metadata": {
        "id": "UeNqlKCYikVW"
      },
      "execution_count": null,
      "outputs": []
    }
  ]
}